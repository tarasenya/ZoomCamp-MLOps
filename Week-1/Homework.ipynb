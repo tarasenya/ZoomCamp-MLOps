{
 "cells": [
  {
   "cell_type": "code",
   "execution_count": 2,
   "id": "d6916b1a",
   "metadata": {},
   "outputs": [],
   "source": [
    "import pandas as pd\n",
    "import os\n",
    "from sklearn.feature_extraction import DictVectorizer\n",
    "from sklearn.linear_model import LinearRegression\n",
    "from sklearn.metrics import mean_squared_error"
   ]
  },
  {
   "cell_type": "markdown",
   "id": "86b425b9",
   "metadata": {},
   "source": [
    "We'll use the same NYC taxi dataset, but instead of \"Green Taxi Trip Records\", we'll use \"Yellow Taxi Trip Records\".\n",
    "\n",
    "Download the data for January and February 2022.\n",
    "\n",
    "**Q1 Read the data for January. How many columns are there?**"
   ]
  },
  {
   "cell_type": "code",
   "execution_count": 3,
   "id": "cfcf925e",
   "metadata": {},
   "outputs": [],
   "source": [
    "taxi_yellow_january = pd.read_parquet(os.path.join(os.getcwd(), 'data/yellow_tripdata_2022-01.parquet'))\n",
    "taxi_yellow_february = pd.read_parquet(os.path.join(os.getcwd(), 'data/yellow_tripdata_2022-02.parquet'))"
   ]
  },
  {
   "cell_type": "code",
   "execution_count": 4,
   "id": "3ab1f66d",
   "metadata": {},
   "outputs": [
    {
     "name": "stdout",
     "output_type": "stream",
     "text": [
      "There are 19 columns.\n"
     ]
    }
   ],
   "source": [
    "print(f'There are {len(taxi_yellow_january.columns)} columns.')"
   ]
  },
  {
   "cell_type": "markdown",
   "id": "bea15879",
   "metadata": {},
   "source": [
    "Now let's compute the duration variable. It should contain the duration of a ride in minutes.\n",
    "\n",
    "**Q2 What's the standard deviation of the trips duration in January?**"
   ]
  },
  {
   "cell_type": "code",
   "execution_count": 5,
   "id": "a852f249",
   "metadata": {},
   "outputs": [],
   "source": [
    "taxi_yellow_january['duration'] = taxi_yellow_january.tpep_dropoff_datetime - taxi_yellow_january.tpep_pickup_datetime\n",
    "taxi_yellow_january['duration'] = taxi_yellow_january['duration'].apply(lambda td: td.total_seconds() / 60)"
   ]
  },
  {
   "cell_type": "code",
   "execution_count": 6,
   "id": "026a5939",
   "metadata": {},
   "outputs": [
    {
     "name": "stdout",
     "output_type": "stream",
     "text": [
      "Standard deviation of the trips in January 46.44530513776499\n"
     ]
    }
   ],
   "source": [
    "print(f'Standard deviation of the trips in January {taxi_yellow_january.duration.std()}')"
   ]
  },
  {
   "cell_type": "markdown",
   "id": "6f529bcd",
   "metadata": {},
   "source": [
    "Next, we need to check the distribution of the duration variable. There are some outliers. Let's remove them and keep only the records where the duration was between 1 and 60 minutes (inclusive).\n",
    "\n",
    "**Q3 What fraction of the records left after you dropped the outliers?**"
   ]
  },
  {
   "cell_type": "code",
   "execution_count": 7,
   "id": "cd5f36fa",
   "metadata": {},
   "outputs": [],
   "source": [
    "taxi_yellow_january_wo_outliers  = taxi_yellow_january[(taxi_yellow_january.duration>=1)&(taxi_yellow_january.duration<=60)]"
   ]
  },
  {
   "cell_type": "code",
   "execution_count": 8,
   "id": "9e0d6575",
   "metadata": {},
   "outputs": [
    {
     "name": "stdout",
     "output_type": "stream",
     "text": [
      "The fraction of the records left 0.9827547930522406\n"
     ]
    }
   ],
   "source": [
    "print(f'The fraction of the records left {len(taxi_yellow_january_wo_outliers)/len(taxi_yellow_january)}')"
   ]
  },
  {
   "cell_type": "markdown",
   "id": "7a494dd3",
   "metadata": {},
   "source": [
    "Let's apply one-hot encoding to the pickup and dropoff location IDs. We'll use only these two features for our model.\n",
    "\n",
    "- Turn the dataframe into a list of dictionaries\n",
    "- Fit a dictionary vectorizer\n",
    "- Get a feature matrix from it\n",
    "\n",
    "**Q4 What's the dimensionality of this matrix (number of columns)?**"
   ]
  },
  {
   "cell_type": "code",
   "execution_count": 9,
   "id": "f7256cc1",
   "metadata": {},
   "outputs": [],
   "source": [
    "cat_features = ['PULocationID', 'DOLocationID']\n",
    "target = ['duration']"
   ]
  },
  {
   "cell_type": "code",
   "execution_count": 10,
   "id": "c026eb22",
   "metadata": {},
   "outputs": [
    {
     "name": "stderr",
     "output_type": "stream",
     "text": [
      "/tmp/ipykernel_158270/2806768490.py:1: SettingWithCopyWarning: \n",
      "A value is trying to be set on a copy of a slice from a DataFrame.\n",
      "Try using .loc[row_indexer,col_indexer] = value instead\n",
      "\n",
      "See the caveats in the documentation: https://pandas.pydata.org/pandas-docs/stable/user_guide/indexing.html#returning-a-view-versus-a-copy\n",
      "  taxi_yellow_january_wo_outliers[cat_features] = taxi_yellow_january_wo_outliers[cat_features].astype(str)\n"
     ]
    }
   ],
   "source": [
    "taxi_yellow_january_wo_outliers[cat_features] = taxi_yellow_january_wo_outliers[cat_features].astype(str)\n",
    "\n",
    "train_dicts = taxi_yellow_january_wo_outliers[cat_features].to_dict(orient='records')\n",
    "\n",
    "_dict_vectorizer = DictVectorizer()\n",
    "X_train = _dict_vectorizer.fit_transform(train_dicts)"
   ]
  },
  {
   "cell_type": "code",
   "execution_count": 11,
   "id": "4252810a",
   "metadata": {},
   "outputs": [
    {
     "name": "stdout",
     "output_type": "stream",
     "text": [
      "There are 515 columns.\n"
     ]
    }
   ],
   "source": [
    "print(f'There are {X_train.shape[1]} columns.')"
   ]
  },
  {
   "cell_type": "markdown",
   "id": "d87bf117",
   "metadata": {},
   "source": [
    "Now let's use the feature matrix from the previous step to train a model.\n",
    "\n",
    "Train a plain linear regression model with default parameters\n",
    "Calculate the RMSE of the model on the training data\n",
    "\n",
    "**Q5 What's the RMSE on train?**"
   ]
  },
  {
   "cell_type": "code",
   "execution_count": 12,
   "id": "9e7dd89e",
   "metadata": {},
   "outputs": [],
   "source": [
    "y_train = taxi_yellow_january_wo_outliers[target].values\n",
    "\n",
    "lr = LinearRegression()\n",
    "lr.fit(X_train, y_train)\n",
    "\n",
    "y_pred = lr.predict(X_train)\n"
   ]
  },
  {
   "cell_type": "code",
   "execution_count": 13,
   "id": "854442ea",
   "metadata": {},
   "outputs": [
    {
     "name": "stdout",
     "output_type": "stream",
     "text": [
      "RMSE equals 6.986190135962495\n"
     ]
    }
   ],
   "source": [
    "print(f'RMSE equals {mean_squared_error(y_train, y_pred, squared=False)}')"
   ]
  },
  {
   "cell_type": "markdown",
   "id": "c288aa05",
   "metadata": {},
   "source": [
    "Now let's apply this model to the validation dataset (February 2022).\n",
    "\n",
    "**Q6 What's the RMSE on validation?**"
   ]
  },
  {
   "cell_type": "code",
   "execution_count": 14,
   "id": "3deb4e31",
   "metadata": {},
   "outputs": [],
   "source": [
    "taxi_yellow_february['duration'] = taxi_yellow_february.tpep_dropoff_datetime - taxi_yellow_february.tpep_pickup_datetime\n",
    "taxi_yellow_february['duration'] = taxi_yellow_february['duration'].apply(lambda td: td.total_seconds() / 60)"
   ]
  },
  {
   "cell_type": "code",
   "execution_count": 15,
   "id": "be131bbf",
   "metadata": {},
   "outputs": [],
   "source": [
    "#apply the same outlier filtering as for training\n",
    "taxi_yellow_february  = taxi_yellow_february[(taxi_yellow_february.duration>=1)&(taxi_yellow_february.duration<=60)]"
   ]
  },
  {
   "cell_type": "code",
   "execution_count": 16,
   "id": "65185d95",
   "metadata": {},
   "outputs": [],
   "source": [
    "taxi_yellow_february[cat_features] = taxi_yellow_february[cat_features].astype(str)"
   ]
  },
  {
   "cell_type": "code",
   "execution_count": 17,
   "id": "cad6ca6d",
   "metadata": {},
   "outputs": [],
   "source": [
    "test_dicts = taxi_yellow_february[cat_features].to_dict(orient='records')\n",
    "\n",
    "X_test = _dict_vectorizer.transform(test_dicts)"
   ]
  },
  {
   "cell_type": "code",
   "execution_count": 18,
   "id": "9e542e63",
   "metadata": {},
   "outputs": [],
   "source": [
    "y_test = taxi_yellow_february[target]"
   ]
  },
  {
   "cell_type": "code",
   "execution_count": 19,
   "id": "249b4860",
   "metadata": {},
   "outputs": [],
   "source": [
    "y_pred_test = lr.predict(X_test)"
   ]
  },
  {
   "cell_type": "code",
   "execution_count": 20,
   "id": "e77f0953",
   "metadata": {},
   "outputs": [
    {
     "name": "stdout",
     "output_type": "stream",
     "text": [
      "RMSE for validation equals 7.786389417027388\n"
     ]
    }
   ],
   "source": [
    "print(f'RMSE for validation equals {mean_squared_error(y_test, y_pred_test, squared=False)}')"
   ]
  }
 ],
 "metadata": {
  "kernelspec": {
   "display_name": "Python 3 (ipykernel)",
   "language": "python",
   "name": "python3"
  },
  "language_info": {
   "codemirror_mode": {
    "name": "ipython",
    "version": 3
   },
   "file_extension": ".py",
   "mimetype": "text/x-python",
   "name": "python",
   "nbconvert_exporter": "python",
   "pygments_lexer": "ipython3",
   "version": "3.9.12"
  }
 },
 "nbformat": 4,
 "nbformat_minor": 5
}
